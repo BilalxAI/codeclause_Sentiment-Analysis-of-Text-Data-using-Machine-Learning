{
 "cells": [
  {
   "cell_type": "markdown",
   "metadata": {},
   "source": [
    "### Import libraries"
   ]
  },
  {
   "cell_type": "code",
   "execution_count": 29,
   "metadata": {
    "execution": {
     "iopub.execute_input": "2023-05-08T10:10:16.640899Z",
     "iopub.status.busy": "2023-05-08T10:10:16.640471Z",
     "iopub.status.idle": "2023-05-08T10:10:19.505396Z",
     "shell.execute_reply": "2023-05-08T10:10:19.503948Z",
     "shell.execute_reply.started": "2023-05-08T10:10:16.640862Z"
    }
   },
   "outputs": [],
   "source": [
    "import re\n",
    "import string\n",
    "import nltk\n",
    "import numpy as np\n",
    "import pandas as pd\n",
    "# nltk.download()\n",
    "from sklearn.feature_extraction.text import TfidfVectorizer\n",
    "from sklearn.model_selection import train_test_split\n",
    "from sklearn.metrics import classification_report\n",
    "from sklearn import metrics\n",
    "\n",
    "from sklearn.naive_bayes import MultinomialNB\n",
    "from sklearn.linear_model import LogisticRegression\n",
    "from sklearn.svm import SVC\n",
    "from sklearn.ensemble import RandomForestClassifier, GradientBoostingClassifier\n",
    "from sklearn.neural_network import MLPClassifier\n",
    "\n",
    "import matplotlib.pyplot as plt\n",
    "import seaborn as sns\n",
    "\n",
    "import pandas as pd\n",
    "import numpy as np\n",
    "from tensorflow.keras.preprocessing.text import Tokenizer\n",
    "from tensorflow.keras.preprocessing.sequence import pad_sequences\n",
    "from tensorflow.keras.models import Sequential\n",
    "from tensorflow.keras.layers import Embedding, LSTM, Dense\n",
    "from sklearn.model_selection import train_test_split\n",
    "from sklearn.metrics import roc_curve, auc, confusion_matrix\n",
    "import matplotlib.pyplot as plt\n",
    "import seaborn as sns\n",
    "from sklearn.metrics import roc_curve\n",
    "from sklearn.metrics import roc_auc_score\n",
    "\n",
    "from sklearn.model_selection import GridSearchCV, StratifiedKFold\n",
    "\n",
    "import warnings\n",
    "warnings.filterwarnings(\"ignore\")"
   ]
  },
  {
   "cell_type": "markdown",
   "metadata": {},
   "source": [
    "### Read data"
   ]
  },
  {
   "cell_type": "code",
   "execution_count": 3,
   "metadata": {
    "execution": {
     "iopub.execute_input": "2023-05-08T10:10:19.510073Z",
     "iopub.status.busy": "2023-05-08T10:10:19.509584Z",
     "iopub.status.idle": "2023-05-08T10:10:19.560625Z",
     "shell.execute_reply": "2023-05-08T10:10:19.558965Z",
     "shell.execute_reply.started": "2023-05-08T10:10:19.510032Z"
    },
    "scrolled": true
   },
   "outputs": [],
   "source": [
    "# There are 3 different txt data so we will read them separately and concatenate them\n",
    "amazon_df = pd.read_csv(\"C:/Users/HP/Downloads/sentiment labelled sentences/sentiment labelled sentences/amazon_cells_labelled.txt\",delimiter='\\t',header=None)\n",
    "imdb_df = pd.read_csv(\"C:/Users/HP/Downloads/sentiment labelled sentences/sentiment labelled sentences/imdb_labelled.txt\",delimiter='\\t',header=None)\n",
    "yelp_df = pd.read_csv(\"C:/Users/HP/Downloads/sentiment labelled sentences/sentiment labelled sentences/yelp_labelled.txt\",delimiter='\\t',header=None)\n",
    "\n",
    "#concat dataset\n",
    "df = pd.concat([amazon_df, imdb_df, yelp_df], axis=0, ignore_index=True)\n",
    "df.columns=['text','label']"
   ]
  },
  {
   "cell_type": "code",
   "execution_count": 4,
   "metadata": {
    "execution": {
     "iopub.execute_input": "2023-05-08T10:10:19.564024Z",
     "iopub.status.busy": "2023-05-08T10:10:19.563662Z",
     "iopub.status.idle": "2023-05-08T10:10:19.596067Z",
     "shell.execute_reply": "2023-05-08T10:10:19.594811Z",
     "shell.execute_reply.started": "2023-05-08T10:10:19.563995Z"
    }
   },
   "outputs": [
    {
     "data": {
      "text/html": [
       "<div>\n",
       "<style scoped>\n",
       "    .dataframe tbody tr th:only-of-type {\n",
       "        vertical-align: middle;\n",
       "    }\n",
       "\n",
       "    .dataframe tbody tr th {\n",
       "        vertical-align: top;\n",
       "    }\n",
       "\n",
       "    .dataframe thead th {\n",
       "        text-align: right;\n",
       "    }\n",
       "</style>\n",
       "<table border=\"1\" class=\"dataframe\">\n",
       "  <thead>\n",
       "    <tr style=\"text-align: right;\">\n",
       "      <th></th>\n",
       "      <th>text</th>\n",
       "      <th>label</th>\n",
       "    </tr>\n",
       "  </thead>\n",
       "  <tbody>\n",
       "    <tr>\n",
       "      <th>0</th>\n",
       "      <td>So there is no way for me to plug it in here i...</td>\n",
       "      <td>0</td>\n",
       "    </tr>\n",
       "    <tr>\n",
       "      <th>1</th>\n",
       "      <td>Good case, Excellent value.</td>\n",
       "      <td>1</td>\n",
       "    </tr>\n",
       "    <tr>\n",
       "      <th>2</th>\n",
       "      <td>Great for the jawbone.</td>\n",
       "      <td>1</td>\n",
       "    </tr>\n",
       "    <tr>\n",
       "      <th>3</th>\n",
       "      <td>Tied to charger for conversations lasting more...</td>\n",
       "      <td>0</td>\n",
       "    </tr>\n",
       "    <tr>\n",
       "      <th>4</th>\n",
       "      <td>The mic is great.</td>\n",
       "      <td>1</td>\n",
       "    </tr>\n",
       "  </tbody>\n",
       "</table>\n",
       "</div>"
      ],
      "text/plain": [
       "                                                text  label\n",
       "0  So there is no way for me to plug it in here i...      0\n",
       "1                        Good case, Excellent value.      1\n",
       "2                             Great for the jawbone.      1\n",
       "3  Tied to charger for conversations lasting more...      0\n",
       "4                                  The mic is great.      1"
      ]
     },
     "execution_count": 4,
     "metadata": {},
     "output_type": "execute_result"
    }
   ],
   "source": [
    "df.head()"
   ]
  },
  {
   "cell_type": "code",
   "execution_count": 5,
   "metadata": {
    "execution": {
     "iopub.execute_input": "2023-05-08T10:10:19.598814Z",
     "iopub.status.busy": "2023-05-08T10:10:19.597653Z",
     "iopub.status.idle": "2023-05-08T10:10:19.613229Z",
     "shell.execute_reply": "2023-05-08T10:10:19.612351Z",
     "shell.execute_reply.started": "2023-05-08T10:10:19.598751Z"
    }
   },
   "outputs": [
    {
     "data": {
      "text/plain": [
       "1    1386\n",
       "0    1362\n",
       "Name: label, dtype: int64"
      ]
     },
     "execution_count": 5,
     "metadata": {},
     "output_type": "execute_result"
    }
   ],
   "source": [
    "# we can see that the dataset is balanced\n",
    "df.label.value_counts()"
   ]
  },
  {
   "cell_type": "code",
   "execution_count": 6,
   "metadata": {
    "execution": {
     "iopub.execute_input": "2023-05-08T10:10:19.615943Z",
     "iopub.status.busy": "2023-05-08T10:10:19.614943Z",
     "iopub.status.idle": "2023-05-08T10:10:19.795020Z",
     "shell.execute_reply": "2023-05-08T10:10:19.793589Z",
     "shell.execute_reply.started": "2023-05-08T10:10:19.615895Z"
    }
   },
   "outputs": [
    {
     "name": "stderr",
     "output_type": "stream",
     "text": [
      "[nltk_data] Downloading package stopwords to\n",
      "[nltk_data]     C:\\Users\\HP\\AppData\\Roaming\\nltk_data...\n",
      "[nltk_data]   Package stopwords is already up-to-date!\n",
      "[nltk_data] Downloading package wordnet to\n",
      "[nltk_data]     C:\\Users\\HP\\AppData\\Roaming\\nltk_data...\n",
      "[nltk_data]   Package wordnet is already up-to-date!\n"
     ]
    }
   ],
   "source": [
    "# We first have to clean the text data\n",
    "nltk.download('stopwords')\n",
    "nltk.download('wordnet')\n",
    "def clean_text(df, text_column):\n",
    "    \n",
    "    stop_words = nltk.corpus.stopwords.words('english')\n",
    "    lemmatizer = nltk.stem.WordNetLemmatizer()\n",
    "    \n",
    "    df[text_column] = df[text_column].str.lower() # convert to lowercase\n",
    "    df[text_column] = df[text_column].apply(lambda x: re.sub(r'http\\S+', '', x)) # remove URLs\n",
    "    df[text_column] = df[text_column].apply(\n",
    "        lambda x: x.translate(str.maketrans('', '', string.punctuation))) # remove punctuation\n",
    "    df[text_column] = df[text_column].apply(lambda x: re.sub(r'\\d+', '', x)) # remove numbers\n",
    "    df[text_column] = df[text_column].apply(\n",
    "        lambda x: re.sub(r'\\s+', ' ', x.strip())) # remove extra whitespaces\n",
    "\n",
    "    # remove stopwords\n",
    "    df[text_column] = df[text_column].apply(\n",
    "        lambda x: ' '.join([word for word in x.split() if word not in stop_words]))\n",
    "\n",
    "    return df\n"
   ]
  },
  {
   "cell_type": "code",
   "execution_count": 7,
   "metadata": {
    "execution": {
     "iopub.execute_input": "2023-05-08T10:10:19.797543Z",
     "iopub.status.busy": "2023-05-08T10:10:19.796769Z",
     "iopub.status.idle": "2023-05-08T10:10:19.915847Z",
     "shell.execute_reply": "2023-05-08T10:10:19.915005Z",
     "shell.execute_reply.started": "2023-05-08T10:10:19.797480Z"
    }
   },
   "outputs": [],
   "source": [
    "cleaned_df = clean_text(df, 'text')"
   ]
  },
  {
   "cell_type": "code",
   "execution_count": 8,
   "metadata": {
    "execution": {
     "iopub.execute_input": "2023-05-08T10:10:19.918031Z",
     "iopub.status.busy": "2023-05-08T10:10:19.917351Z",
     "iopub.status.idle": "2023-05-08T10:10:19.925197Z",
     "shell.execute_reply": "2023-05-08T10:10:19.923841Z",
     "shell.execute_reply.started": "2023-05-08T10:10:19.917992Z"
    }
   },
   "outputs": [],
   "source": [
    "# split data into train and test sets\n",
    "x_train, x_test, y_train, y_test = train_test_split(cleaned_df['text'], cleaned_df['label'], test_size=0.2)"
   ]
  },
  {
   "cell_type": "code",
   "execution_count": 9,
   "metadata": {
    "execution": {
     "iopub.execute_input": "2023-05-08T10:10:19.926949Z",
     "iopub.status.busy": "2023-05-08T10:10:19.926514Z",
     "iopub.status.idle": "2023-05-08T10:10:20.006785Z",
     "shell.execute_reply": "2023-05-08T10:10:20.005646Z",
     "shell.execute_reply.started": "2023-05-08T10:10:19.926908Z"
    }
   },
   "outputs": [],
   "source": [
    "# applt tf-idf to obtain embeddings\n",
    "tf_idf = TfidfVectorizer()\n",
    "x_train = tf_idf.fit_transform(x_train)\n",
    "x_test = tf_idf.transform(x_test)"
   ]
  },
  {
   "cell_type": "code",
   "execution_count": 10,
   "metadata": {
    "execution": {
     "iopub.execute_input": "2023-05-08T10:10:20.010719Z",
     "iopub.status.busy": "2023-05-08T10:10:20.010012Z",
     "iopub.status.idle": "2023-05-08T10:10:20.016207Z",
     "shell.execute_reply": "2023-05-08T10:10:20.015380Z",
     "shell.execute_reply.started": "2023-05-08T10:10:20.010685Z"
    }
   },
   "outputs": [],
   "source": [
    "kfold = StratifiedKFold(n_splits=5, random_state = 42, shuffle = True)\n",
    "scoring = {'Accuracy':'accuracy', 'Precision': 'precision', 'Recall':'recall', 'F1': 'f1_micro'}"
   ]
  },
  {
   "cell_type": "markdown",
   "metadata": {},
   "source": [
    "### Utility functions"
   ]
  },
  {
   "cell_type": "code",
   "execution_count": 11,
   "metadata": {
    "execution": {
     "iopub.execute_input": "2023-05-08T11:18:40.315842Z",
     "iopub.status.busy": "2023-05-08T11:18:40.314700Z",
     "iopub.status.idle": "2023-05-08T11:18:40.323503Z",
     "shell.execute_reply": "2023-05-08T11:18:40.322217Z",
     "shell.execute_reply.started": "2023-05-08T11:18:40.315802Z"
    }
   },
   "outputs": [],
   "source": [
    "def plot_roc(clf,x_test,y_test):\n",
    "    # Plot roc curve and calculate auc score\n",
    "    global auc\n",
    "    y_pred = clf.predict(x_test)\n",
    "    y_pred_proba = clf.predict_proba(x_test)\n",
    "    y_scores = pd.DataFrame(y_pred_proba, columns=clf.classes_.tolist())[1].values\n",
    "    auc_value = roc_auc_score(y_test, y_scores)\n",
    "    auc.append(auc_value)\n",
    "    print(\"AUC score: \",auc_value)\n",
    "\n",
    "    fpr, tpr, thresholds = roc_curve(y_test, y_scores, pos_label=1.0)\n",
    "    plt.figure()\n",
    "    plt.plot(fpr, tpr, color='darkorange', linewidth=2, label='ROC curve (area = %0.2f)' % auc_value)\n",
    "    plt.plot([0, 1], [0, 1], color='navy', linewidth=2, linestyle='--')\n",
    "\n",
    "    plt.xlabel('False Positive Rate')\n",
    "    plt.ylabel('True Positive Rate')\n",
    "    plt.title('ROC curve for Logistic Regression')\n",
    "    plt.legend(loc=\"lower right\")\n",
    "    plt.show()"
   ]
  },
  {
   "cell_type": "code",
   "execution_count": 12,
   "metadata": {
    "execution": {
     "iopub.execute_input": "2023-05-08T10:34:53.224089Z",
     "iopub.status.busy": "2023-05-08T10:34:53.223651Z",
     "iopub.status.idle": "2023-05-08T10:34:53.231903Z",
     "shell.execute_reply": "2023-05-08T10:34:53.229865Z",
     "shell.execute_reply.started": "2023-05-08T10:34:53.224057Z"
    }
   },
   "outputs": [],
   "source": [
    "def get_confusion_matrix(clf,x_test,y_test):\n",
    "    y_pred = clf.predict(x_test)\n",
    "\n",
    "    # print classification metrics\n",
    "    print(metrics.classification_report(y_test, y_pred, target_names=['Positive', 'Negative']))\n",
    "\n",
    "    print(\"Confusion matrix:\")\n",
    "    cf_matrix = metrics.confusion_matrix(y_test, y_pred)\n",
    "    sns.heatmap(cf_matrix/np.sum(cf_matrix), annot=True,fmt='.2%', cmap='Blues')"
   ]
  },
  {
   "cell_type": "code",
   "execution_count": 13,
   "metadata": {
    "execution": {
     "iopub.execute_input": "2023-05-08T11:25:37.571144Z",
     "iopub.status.busy": "2023-05-08T11:25:37.569756Z",
     "iopub.status.idle": "2023-05-08T11:25:37.579838Z",
     "shell.execute_reply": "2023-05-08T11:25:37.578513Z",
     "shell.execute_reply.started": "2023-05-08T11:25:37.571085Z"
    }
   },
   "outputs": [],
   "source": [
    "results = pd.DataFrame(columns=[\"Classifier\", \"Accuracy\", \"Precision\", \"Recall\", \"F1\", 'AUC'])\n",
    "acc, prec, rec, f1, auc = [], [], [], [], []"
   ]
  },
  {
   "cell_type": "code",
   "execution_count": 14,
   "metadata": {
    "execution": {
     "iopub.execute_input": "2023-05-08T11:25:35.928830Z",
     "iopub.status.busy": "2023-05-08T11:25:35.927406Z",
     "iopub.status.idle": "2023-05-08T11:25:35.935718Z",
     "shell.execute_reply": "2023-05-08T11:25:35.934422Z",
     "shell.execute_reply.started": "2023-05-08T11:25:35.928771Z"
    }
   },
   "outputs": [],
   "source": [
    "def fill_metrics(clf):\n",
    "    global acc, prec, rec, f1\n",
    "    max_ind = np.nanargmax(clf_lr.cv_results_['mean_test_Accuracy'])\n",
    "    acc.append(clf.cv_results_['mean_test_Accuracy'][max_ind])\n",
    "    prec.append(clf.cv_results_['mean_test_Precision'][max_ind])\n",
    "    rec.append(clf.cv_results_['mean_test_Recall'][max_ind])\n",
    "    f1.append(clf.cv_results_['mean_test_F1'][max_ind])"
   ]
  },
  {
   "cell_type": "markdown",
   "metadata": {},
   "source": [
    "### Logistic Regression"
   ]
  },
  {
   "cell_type": "code",
   "execution_count": 15,
   "metadata": {
    "execution": {
     "iopub.execute_input": "2023-05-08T11:21:49.941619Z",
     "iopub.status.busy": "2023-05-08T11:21:49.941262Z",
     "iopub.status.idle": "2023-05-08T11:21:53.521176Z",
     "shell.execute_reply": "2023-05-08T11:21:53.519859Z",
     "shell.execute_reply.started": "2023-05-08T11:21:49.941591Z"
    }
   },
   "outputs": [
    {
     "name": "stdout",
     "output_type": "stream",
     "text": [
      "Best score:  0.7948188030648169\n"
     ]
    }
   ],
   "source": [
    "lr = LogisticRegression()\n",
    "params = {\n",
    "    \"penalty\": (\"l1\", \"l2\"),\n",
    "    \"tol\": (0.1, 0.01, 0.001, 0.0001),\n",
    "    \"C\": (10.0, 1.0, 0.1, 0.01)\n",
    "}\n",
    "clf_lr = GridSearchCV(lr, params, cv = kfold, scoring=scoring, refit='Accuracy')\n",
    "clf_lr.fit(x_train, y_train)\n",
    "print(\"Best score: \",clf_lr.best_score_)"
   ]
  },
  {
   "cell_type": "code",
   "execution_count": 16,
   "metadata": {
    "execution": {
     "iopub.execute_input": "2023-05-08T11:25:46.197976Z",
     "iopub.status.busy": "2023-05-08T11:25:46.197601Z",
     "iopub.status.idle": "2023-05-08T11:25:46.203829Z",
     "shell.execute_reply": "2023-05-08T11:25:46.202609Z",
     "shell.execute_reply.started": "2023-05-08T11:25:46.197948Z"
    }
   },
   "outputs": [],
   "source": [
    "fill_metrics(clf_lr)"
   ]
  },
  {
   "cell_type": "code",
   "execution_count": 17,
   "metadata": {
    "execution": {
     "iopub.execute_input": "2023-05-08T11:18:47.018354Z",
     "iopub.status.busy": "2023-05-08T11:18:47.017908Z",
     "iopub.status.idle": "2023-05-08T11:18:47.312661Z",
     "shell.execute_reply": "2023-05-08T11:18:47.310330Z",
     "shell.execute_reply.started": "2023-05-08T11:18:47.018318Z"
    }
   },
   "outputs": [
    {
     "name": "stdout",
     "output_type": "stream",
     "text": [
      "              precision    recall  f1-score   support\n",
      "\n",
      "    Positive       0.82      0.77      0.80       262\n",
      "    Negative       0.80      0.85      0.82       288\n",
      "\n",
      "    accuracy                           0.81       550\n",
      "   macro avg       0.81      0.81      0.81       550\n",
      "weighted avg       0.81      0.81      0.81       550\n",
      "\n",
      "Confusion matrix:\n"
     ]
    },
    {
     "data": {
      "image/png": "[encoded data removed]",
      "text/plain": [
       "<Figure size 432x288 with 2 Axes>"
      ]
     },
     "metadata": {
      "needs_background": "light"
     },
     "output_type": "display_data"
    }
   ],
   "source": [
    "get_confusion_matrix(clf_lr.best_estimator_,x_test,y_test)"
   ]
  },
  {
   "cell_type": "code",
   "execution_count": 18,
   "metadata": {
    "execution": {
     "iopub.execute_input": "2023-05-08T11:26:18.664134Z",
     "iopub.status.busy": "2023-05-08T11:26:18.663436Z",
     "iopub.status.idle": "2023-05-08T11:26:18.935261Z",
     "shell.execute_reply": "2023-05-08T11:26:18.934474Z",
     "shell.execute_reply.started": "2023-05-08T11:26:18.664085Z"
    }
   },
   "outputs": [
    {
     "name": "stdout",
     "output_type": "stream",
     "text": [
      "AUC score:  0.8931231446140797\n"
     ]
    },
    {
     "data": {
      "image/png": "[encoded data removed]",
      "text/plain": [
       "<Figure size 432x288 with 1 Axes>"
      ]
     },
     "metadata": {
      "needs_background": "light"
     },
     "output_type": "display_data"
    }
   ],
   "source": [
    "plot_roc(clf_lr.best_estimator_,x_test,y_test)"
   ]
  },
  {
   "cell_type": "markdown",
   "metadata": {},
   "source": [
    "### Naiver Bayes"
   ]
  },
  {
   "cell_type": "code",
   "execution_count": 19,
   "metadata": {
    "execution": {
     "iopub.execute_input": "2023-05-08T10:22:48.041101Z",
     "iopub.status.busy": "2023-05-08T10:22:48.040704Z",
     "iopub.status.idle": "2023-05-08T10:22:48.763955Z",
     "shell.execute_reply": "2023-05-08T10:22:48.762964Z",
     "shell.execute_reply.started": "2023-05-08T10:22:48.041072Z"
    }
   },
   "outputs": [
    {
     "name": "stdout",
     "output_type": "stream",
     "text": [
      "Best score:  0.7875264029819838\n"
     ]
    }
   ],
   "source": [
    "nb = MultinomialNB()\n",
    "params = {\n",
    "    \"alpha\":[0.25, 0.5, 1, 1.25, 1.5, 2, 4, 8],\n",
    "    \"fit_prior\":[True, False]\n",
    "}\n",
    "clf_nb = GridSearchCV(nb, params, cv = kfold, scoring=scoring, refit='Accuracy')\n",
    "clf_nb.fit(x_train, y_train)\n",
    "print(\"Best score: \",clf_nb.best_score_)"
   ]
  },
  {
   "cell_type": "code",
   "execution_count": 20,
   "metadata": {
    "execution": {
     "iopub.execute_input": "2023-05-08T11:25:55.630238Z",
     "iopub.status.busy": "2023-05-08T11:25:55.629810Z",
     "iopub.status.idle": "2023-05-08T11:25:55.635961Z",
     "shell.execute_reply": "2023-05-08T11:25:55.634449Z",
     "shell.execute_reply.started": "2023-05-08T11:25:55.630205Z"
    }
   },
   "outputs": [],
   "source": [
    "fill_metrics(clf_nb)"
   ]
  },
  {
   "cell_type": "code",
   "execution_count": 21,
   "metadata": {
    "execution": {
     "iopub.execute_input": "2023-05-08T10:36:21.732284Z",
     "iopub.status.busy": "2023-05-08T10:36:21.731910Z",
     "iopub.status.idle": "2023-05-08T10:36:22.012365Z",
     "shell.execute_reply": "2023-05-08T10:36:22.010835Z",
     "shell.execute_reply.started": "2023-05-08T10:36:21.732253Z"
    }
   },
   "outputs": [
    {
     "name": "stdout",
     "output_type": "stream",
     "text": [
      "              precision    recall  f1-score   support\n",
      "\n",
      "    Positive       0.83      0.79      0.81       262\n",
      "    Negative       0.82      0.85      0.83       288\n",
      "\n",
      "    accuracy                           0.82       550\n",
      "   macro avg       0.82      0.82      0.82       550\n",
      "weighted avg       0.82      0.82      0.82       550\n",
      "\n",
      "Confusion matrix:\n"
     ]
    },
    {
     "data": {
      "image/png": "[encoded data removed]",
      "text/plain": [
       "<Figure size 432x288 with 2 Axes>"
      ]
     },
     "metadata": {
      "needs_background": "light"
     },
     "output_type": "display_data"
    }
   ],
   "source": [
    "get_confusion_matrix(clf_nb.best_estimator_,x_test,y_test)"
   ]
  },
  {
   "cell_type": "code",
   "execution_count": 22,
   "metadata": {
    "execution": {
     "iopub.execute_input": "2023-05-08T11:26:23.000176Z",
     "iopub.status.busy": "2023-05-08T11:26:22.999749Z",
     "iopub.status.idle": "2023-05-08T11:26:23.254306Z",
     "shell.execute_reply": "2023-05-08T11:26:23.253079Z",
     "shell.execute_reply.started": "2023-05-08T11:26:23.000142Z"
    }
   },
   "outputs": [
    {
     "name": "stdout",
     "output_type": "stream",
     "text": [
      "AUC score:  0.8618867924528302\n"
     ]
    },
    {
     "data": {
      "image/png": "[encoded data removed]",
      "text/plain": [
       "<Figure size 432x288 with 1 Axes>"
      ]
     },
     "metadata": {
      "needs_background": "light"
     },
     "output_type": "display_data"
    }
   ],
   "source": [
    "plot_roc(clf_nb.best_estimator_,x_test,y_test)"
   ]
  },
  {
   "cell_type": "markdown",
   "metadata": {},
   "source": [
    "### SVM"
   ]
  },
  {
   "cell_type": "code",
   "execution_count": 22,
   "metadata": {
    "execution": {
     "iopub.execute_input": "2023-05-08T10:27:08.933636Z",
     "iopub.status.busy": "2023-05-08T10:27:08.932603Z",
     "iopub.status.idle": "2023-05-08T10:30:02.881327Z",
     "shell.execute_reply": "2023-05-08T10:30:02.879966Z",
     "shell.execute_reply.started": "2023-05-08T10:27:08.933503Z"
    }
   },
   "outputs": [
    {
     "name": "stdout",
     "output_type": "stream",
     "text": [
      "Best score:  0.7989066059225511\n"
     ]
    }
   ],
   "source": [
    "svm = SVC(probability=True)\n",
    "params = {'kernel': ['rbf'], \n",
    "          'gamma': [ 0.001, 0.01, 0.1, 1],\n",
    "          'C': [1, 10, 50, 100, 200, 300]}\n",
    "clf_svm = GridSearchCV(svm, params, cv = kfold, scoring=scoring, refit='Accuracy')\n",
    "clf_svm.fit(x_train, y_train)\n",
    "print(\"Best score: \",clf_svm.best_score_)"
   ]
  },
  {
   "cell_type": "code",
   "execution_count": 23,
   "metadata": {
    "execution": {
     "iopub.execute_input": "2023-05-08T11:25:59.652309Z",
     "iopub.status.busy": "2023-05-08T11:25:59.651885Z",
     "iopub.status.idle": "2023-05-08T11:25:59.657542Z",
     "shell.execute_reply": "2023-05-08T11:25:59.656493Z",
     "shell.execute_reply.started": "2023-05-08T11:25:59.652277Z"
    }
   },
   "outputs": [],
   "source": [
    "fill_metrics(clf_svm)"
   ]
  },
  {
   "cell_type": "code",
   "execution_count": 24,
   "metadata": {
    "execution": {
     "iopub.execute_input": "2023-05-08T10:37:12.029741Z",
     "iopub.status.busy": "2023-05-08T10:37:12.029202Z",
     "iopub.status.idle": "2023-05-08T10:37:12.414303Z",
     "shell.execute_reply": "2023-05-08T10:37:12.413258Z",
     "shell.execute_reply.started": "2023-05-08T10:37:12.029700Z"
    }
   },
   "outputs": [
    {
     "name": "stdout",
     "output_type": "stream",
     "text": [
      "              precision    recall  f1-score   support\n",
      "\n",
      "    Positive       0.81      0.78      0.80       262\n",
      "    Negative       0.81      0.84      0.82       288\n",
      "\n",
      "    accuracy                           0.81       550\n",
      "   macro avg       0.81      0.81      0.81       550\n",
      "weighted avg       0.81      0.81      0.81       550\n",
      "\n",
      "Confusion matrix:\n"
     ]
    },
    {
     "data": {
      "image/png": "[encoded data removed]",
      "text/plain": [
       "<Figure size 432x288 with 2 Axes>"
      ]
     },
     "metadata": {
      "needs_background": "light"
     },
     "output_type": "display_data"
    }
   ],
   "source": [
    "get_confusion_matrix(clf_svm.best_estimator_,x_test,y_test)"
   ]
  },
  {
   "cell_type": "code",
   "execution_count": 25,
   "metadata": {
    "execution": {
     "iopub.execute_input": "2023-05-08T11:26:26.030211Z",
     "iopub.status.busy": "2023-05-08T11:26:26.029824Z",
     "iopub.status.idle": "2023-05-08T11:26:26.449007Z",
     "shell.execute_reply": "2023-05-08T11:26:26.447714Z",
     "shell.execute_reply.started": "2023-05-08T11:26:26.030180Z"
    }
   },
   "outputs": [
    {
     "name": "stdout",
     "output_type": "stream",
     "text": [
      "AUC score:  0.8800161683630194\n"
     ]
    },
    {
     "data": {
      "image/png": "[encoded data removed]",
      "text/plain": [
       "<Figure size 432x288 with 1 Axes>"
      ]
     },
     "metadata": {
      "needs_background": "light"
     },
     "output_type": "display_data"
    }
   ],
   "source": [
    "plot_roc(clf_svm.best_estimator_,x_test,y_test)"
   ]
  },
  {
   "cell_type": "markdown",
   "metadata": {},
   "source": [
    "# LSTM MODEL"
   ]
  },
  {
   "cell_type": "code",
   "execution_count": 30,
   "metadata": {},
   "outputs": [
    {
     "name": "stdout",
     "output_type": "stream",
     "text": [
      "Epoch 1/50\n",
      "69/69 [==============================] - 17s 121ms/step - loss: 0.6954 - accuracy: 0.4982 - val_loss: 0.6984 - val_accuracy: 0.4709\n",
      "Epoch 2/50\n",
      "69/69 [==============================] - 3s 49ms/step - loss: 0.6931 - accuracy: 0.4955 - val_loss: 0.6937 - val_accuracy: 0.4691\n",
      "Epoch 3/50\n",
      "69/69 [==============================] - 3s 45ms/step - loss: 0.6933 - accuracy: 0.4982 - val_loss: 0.6960 - val_accuracy: 0.4709\n",
      "Epoch 4/50\n",
      "69/69 [==============================] - 3s 45ms/step - loss: 0.6930 - accuracy: 0.5141 - val_loss: 0.6955 - val_accuracy: 0.4691\n",
      "Epoch 5/50\n",
      "69/69 [==============================] - 3s 46ms/step - loss: 0.6930 - accuracy: 0.5141 - val_loss: 0.6961 - val_accuracy: 0.4691\n",
      "Epoch 6/50\n",
      "69/69 [==============================] - 3s 48ms/step - loss: 0.6929 - accuracy: 0.5141 - val_loss: 0.6945 - val_accuracy: 0.4691\n",
      "Epoch 7/50\n",
      "69/69 [==============================] - 3s 50ms/step - loss: 0.6928 - accuracy: 0.5141 - val_loss: 0.6939 - val_accuracy: 0.4691\n",
      "Epoch 8/50\n",
      "69/69 [==============================] - 4s 54ms/step - loss: 0.6930 - accuracy: 0.4832 - val_loss: 0.6951 - val_accuracy: 0.4691\n",
      "Epoch 9/50\n",
      "69/69 [==============================] - 4s 55ms/step - loss: 0.6921 - accuracy: 0.5141 - val_loss: 0.6978 - val_accuracy: 0.4691\n",
      "Epoch 10/50\n",
      "69/69 [==============================] - 3s 51ms/step - loss: 0.6923 - accuracy: 0.5141 - val_loss: 0.6945 - val_accuracy: 0.4691\n",
      "Epoch 11/50\n",
      "69/69 [==============================] - 3s 49ms/step - loss: 0.6922 - accuracy: 0.5041 - val_loss: 0.6951 - val_accuracy: 0.4691\n",
      "Epoch 12/50\n",
      "69/69 [==============================] - 3s 47ms/step - loss: 0.6920 - accuracy: 0.5141 - val_loss: 0.6957 - val_accuracy: 0.4691\n",
      "Epoch 13/50\n",
      "69/69 [==============================] - 3s 51ms/step - loss: 0.6919 - accuracy: 0.5141 - val_loss: 0.6956 - val_accuracy: 0.4691\n",
      "Epoch 14/50\n",
      "69/69 [==============================] - 4s 52ms/step - loss: 0.6918 - accuracy: 0.5141 - val_loss: 0.6953 - val_accuracy: 0.4691\n",
      "Epoch 15/50\n",
      "69/69 [==============================] - 3s 50ms/step - loss: 0.6920 - accuracy: 0.5141 - val_loss: 0.6955 - val_accuracy: 0.4691\n",
      "Epoch 16/50\n",
      "69/69 [==============================] - 3s 43ms/step - loss: 0.6918 - accuracy: 0.5141 - val_loss: 0.6948 - val_accuracy: 0.4691\n",
      "Epoch 17/50\n",
      "69/69 [==============================] - 3s 41ms/step - loss: 0.6917 - accuracy: 0.5141 - val_loss: 0.6950 - val_accuracy: 0.4691\n",
      "Epoch 18/50\n",
      "69/69 [==============================] - 3s 42ms/step - loss: 0.6917 - accuracy: 0.5141 - val_loss: 0.6955 - val_accuracy: 0.4691\n",
      "Epoch 19/50\n",
      "69/69 [==============================] - 3s 42ms/step - loss: 0.6918 - accuracy: 0.5141 - val_loss: 0.6953 - val_accuracy: 0.4691\n",
      "Epoch 20/50\n",
      "69/69 [==============================] - 3s 41ms/step - loss: 0.6917 - accuracy: 0.5141 - val_loss: 0.6947 - val_accuracy: 0.4691\n",
      "Epoch 21/50\n",
      "69/69 [==============================] - 3s 43ms/step - loss: 0.6999 - accuracy: 0.5132 - val_loss: 0.6933 - val_accuracy: 0.4691\n",
      "Epoch 22/50\n",
      "69/69 [==============================] - 3s 44ms/step - loss: 0.6925 - accuracy: 0.5027 - val_loss: 0.6935 - val_accuracy: 0.4691\n",
      "Epoch 23/50\n",
      "69/69 [==============================] - 3s 45ms/step - loss: 0.6924 - accuracy: 0.5141 - val_loss: 0.6933 - val_accuracy: 0.4691\n",
      "Epoch 24/50\n",
      "69/69 [==============================] - 3s 49ms/step - loss: 0.6918 - accuracy: 0.5141 - val_loss: 0.6958 - val_accuracy: 0.4691\n",
      "Epoch 25/50\n",
      "69/69 [==============================] - 3s 47ms/step - loss: 0.6919 - accuracy: 0.5141 - val_loss: 0.6953 - val_accuracy: 0.4691\n",
      "Epoch 26/50\n",
      "69/69 [==============================] - 4s 53ms/step - loss: 0.6918 - accuracy: 0.5141 - val_loss: 0.6962 - val_accuracy: 0.4691\n",
      "Epoch 27/50\n",
      "69/69 [==============================] - 4s 54ms/step - loss: 0.6919 - accuracy: 0.5141 - val_loss: 0.6966 - val_accuracy: 0.4691\n",
      "Epoch 28/50\n",
      "69/69 [==============================] - 4s 56ms/step - loss: 0.6918 - accuracy: 0.5141 - val_loss: 0.6952 - val_accuracy: 0.4691\n",
      "Epoch 29/50\n",
      "69/69 [==============================] - 4s 52ms/step - loss: 0.6918 - accuracy: 0.5141 - val_loss: 0.6968 - val_accuracy: 0.4691\n",
      "Epoch 30/50\n",
      "69/69 [==============================] - 4s 51ms/step - loss: 0.6918 - accuracy: 0.5141 - val_loss: 0.6945 - val_accuracy: 0.4691\n",
      "Epoch 31/50\n",
      "69/69 [==============================] - 3s 49ms/step - loss: 0.6921 - accuracy: 0.5141 - val_loss: 0.6953 - val_accuracy: 0.4691\n",
      "Epoch 32/50\n",
      "69/69 [==============================] - 3s 46ms/step - loss: 0.6916 - accuracy: 0.5141 - val_loss: 0.6949 - val_accuracy: 0.4691\n",
      "Epoch 33/50\n",
      "69/69 [==============================] - 3s 44ms/step - loss: 0.6915 - accuracy: 0.5141 - val_loss: 0.6949 - val_accuracy: 0.4691\n",
      "Epoch 34/50\n",
      "69/69 [==============================] - 3s 47ms/step - loss: 0.6916 - accuracy: 0.5141 - val_loss: 0.6948 - val_accuracy: 0.4691\n",
      "Epoch 35/50\n",
      "69/69 [==============================] - 3s 49ms/step - loss: 0.6915 - accuracy: 0.5141 - val_loss: 0.6955 - val_accuracy: 0.4691\n",
      "Epoch 36/50\n",
      "69/69 [==============================] - 3s 45ms/step - loss: 0.6918 - accuracy: 0.5141 - val_loss: 0.6957 - val_accuracy: 0.4691\n",
      "Epoch 37/50\n",
      "69/69 [==============================] - 3s 43ms/step - loss: 0.6916 - accuracy: 0.5141 - val_loss: 0.6948 - val_accuracy: 0.4691\n",
      "Epoch 38/50\n",
      "69/69 [==============================] - 3s 49ms/step - loss: 0.6916 - accuracy: 0.5141 - val_loss: 0.6953 - val_accuracy: 0.4691\n",
      "Epoch 39/50\n",
      "69/69 [==============================] - 3s 51ms/step - loss: 0.6917 - accuracy: 0.5141 - val_loss: 0.6948 - val_accuracy: 0.4691\n",
      "Epoch 40/50\n",
      "69/69 [==============================] - 3s 50ms/step - loss: 0.6917 - accuracy: 0.5141 - val_loss: 0.6942 - val_accuracy: 0.4691\n",
      "Epoch 41/50\n",
      "69/69 [==============================] - 3s 45ms/step - loss: 0.6916 - accuracy: 0.5141 - val_loss: 0.6950 - val_accuracy: 0.4691\n",
      "Epoch 42/50\n",
      "69/69 [==============================] - 3s 44ms/step - loss: 0.6918 - accuracy: 0.5141 - val_loss: 0.6958 - val_accuracy: 0.4691\n",
      "Epoch 43/50\n",
      "69/69 [==============================] - 3s 44ms/step - loss: 0.6915 - accuracy: 0.5141 - val_loss: 0.6948 - val_accuracy: 0.4691\n",
      "Epoch 44/50\n",
      "69/69 [==============================] - 3s 39ms/step - loss: 0.6917 - accuracy: 0.5141 - val_loss: 0.6944 - val_accuracy: 0.4691\n",
      "Epoch 45/50\n",
      "69/69 [==============================] - 3s 42ms/step - loss: 0.6916 - accuracy: 0.5141 - val_loss: 0.6949 - val_accuracy: 0.4691\n",
      "Epoch 46/50\n",
      "69/69 [==============================] - 3s 39ms/step - loss: 0.6916 - accuracy: 0.5141 - val_loss: 0.6946 - val_accuracy: 0.4691\n",
      "Epoch 47/50\n",
      "69/69 [==============================] - 3s 40ms/step - loss: 0.6919 - accuracy: 0.5141 - val_loss: 0.6946 - val_accuracy: 0.4691\n",
      "Epoch 48/50\n",
      "69/69 [==============================] - 3s 40ms/step - loss: 0.6915 - accuracy: 0.5146 - val_loss: 0.6941 - val_accuracy: 0.4691\n",
      "Epoch 49/50\n",
      "69/69 [==============================] - 3s 42ms/step - loss: 0.6915 - accuracy: 0.5141 - val_loss: 0.6947 - val_accuracy: 0.4691\n",
      "Epoch 50/50\n",
      "69/69 [==============================] - 3s 41ms/step - loss: 0.6915 - accuracy: 0.5141 - val_loss: 0.6952 - val_accuracy: 0.4691\n",
      "18/18 [==============================] - 0s 12ms/step - loss: 0.6952 - accuracy: 0.4691\n",
      "Test Loss: 0.6951863765716553\n",
      "Test Accuracy: 0.46909090876579285\n",
      "18/18 [==============================] - 1s 11ms/step\n"
     ]
    }
   ],
   "source": [
    "\n",
    "\n",
    "# Read the dataset\n",
    "amazon_df = pd.read_csv(\"C:/Users/HP/Downloads/sentiment labelled sentences/sentiment labelled sentences/amazon_cells_labelled.txt\", delimiter='\\t', header=None)\n",
    "imdb_df = pd.read_csv(\"C:/Users/HP/Downloads/sentiment labelled sentences/sentiment labelled sentences/imdb_labelled.txt\", delimiter='\\t', header=None)\n",
    "yelp_df = pd.read_csv(\"C:/Users/HP/Downloads/sentiment labelled sentences/sentiment labelled sentences/yelp_labelled.txt\", delimiter='\\t', header=None)\n",
    "\n",
    "# Concatenate the datasets\n",
    "data = pd.concat([amazon_df, imdb_df, yelp_df], axis=0, ignore_index=True)\n",
    "\n",
    "reviews = data[0].values\n",
    "labels = data[1].values\n",
    "\n",
    "# Split the dataset into training and testing sets\n",
    "x_train, x_test, y_train, y_test = train_test_split(reviews, labels, test_size=0.2, random_state=42)\n",
    "\n",
    "# Tokenize the text\n",
    "tokenizer = Tokenizer()\n",
    "tokenizer.fit_on_texts(x_train)\n",
    "\n",
    "# Convert text to sequences\n",
    "x_train_seq = tokenizer.texts_to_sequences(x_train)\n",
    "x_test_seq = tokenizer.texts_to_sequences(x_test)\n",
    "\n",
    "# Pad sequences\n",
    "max_len = 100  # Maximum sequence length\n",
    "x_train_pad = pad_sequences(x_train_seq, maxlen=max_len, padding='post')\n",
    "x_test_pad = pad_sequences(x_test_seq, maxlen=max_len, padding='post')\n",
    "\n",
    "# Define the LSTM model\n",
    "model = Sequential()\n",
    "model.add(Embedding(len(tokenizer.word_index) + 1, 128, input_length=max_len))\n",
    "model.add(LSTM(64))\n",
    "model.add(Dense(1, activation='sigmoid'))\n",
    "\n",
    "# Compile the model\n",
    "model.compile(loss='binary_crossentropy', optimizer='adam', metrics=['accuracy'])\n",
    "\n",
    "# Train the model\n",
    "model.fit(x_train_pad, y_train, epochs=50, batch_size=32, validation_data=(x_test_pad, y_test))\n",
    "\n",
    "# Evaluate the model\n",
    "loss, accuracy = model.evaluate(x_test_pad, y_test)\n",
    "print(\"Test Loss:\", loss)\n",
    "print(\"Test Accuracy:\", accuracy)\n",
    "\n",
    "# Generate predictions\n",
    "y_pred_prob = model.predict(x_test_pad)\n",
    "y_pred = np.where(y_pred_prob > 0.5, 1, 0)\n",
    "\n",
    "\n",
    "\n",
    "\n"
   ]
  },
  {
   "cell_type": "markdown",
   "metadata": {},
   "source": [
    "# confusion matrix"
   ]
  },
  {
   "cell_type": "code",
   "execution_count": 31,
   "metadata": {},
   "outputs": [
    {
     "data": {
      "image/png": "[encoded data removed]",
      "text/plain": [
       "<Figure size 432x288 with 2 Axes>"
      ]
     },
     "metadata": {
      "needs_background": "light"
     },
     "output_type": "display_data"
    }
   ],
   "source": [
    "# Generate confusion matrix\n",
    "cm = confusion_matrix(y_test, y_pred)\n",
    "\n",
    "# Plot confusion matrix\n",
    "plt.figure()\n",
    "sns.heatmap(cm, annot=True, fmt='d', cmap='Blues')\n",
    "plt.title('Confusion Matrix')\n",
    "plt.xlabel('Predicted')\n",
    "plt.ylabel('Actual')\n",
    "plt.show()"
   ]
  },
  {
   "cell_type": "markdown",
   "metadata": {},
   "source": [
    "# Roc curve"
   ]
  },
  {
   "cell_type": "code",
   "execution_count": 32,
   "metadata": {},
   "outputs": [
    {
     "data": {
      "image/png": "[encoded data removed]",
      "text/plain": [
       "<Figure size 432x288 with 1 Axes>"
      ]
     },
     "metadata": {
      "needs_background": "light"
     },
     "output_type": "display_data"
    }
   ],
   "source": [
    "fpr, tpr, thresholds = roc_curve(y_test, y_pred_prob)\n",
    "roc_auc = auc(fpr, tpr)\n",
    "\n",
    "# Plot ROC curve\n",
    "plt.figure()\n",
    "plt.plot(fpr, tpr, label='ROC curve (area = %0.2f)' % roc_auc)\n",
    "plt.plot([0, 1], [0, 1], 'k--')\n",
    "plt.xlim([0.0, 1.0])\n",
    "plt.ylim([0.0, 1.05])\n",
    "plt.xlabel('False Positive Rate')\n",
    "plt.ylabel('True Positive Rate')\n",
    "plt.title('Receiver Operating Characteristic')\n",
    "plt.legend(loc=\"lower right\")\n",
    "plt.show()"
   ]
  },
  {
   "cell_type": "markdown",
   "metadata": {},
   "source": [
    "# CNN"
   ]
  },
  {
   "cell_type": "code",
   "execution_count": 40,
   "metadata": {},
   "outputs": [
    {
     "name": "stdout",
     "output_type": "stream",
     "text": [
      "Epoch 1/50\n",
      "69/69 [==============================] - 2s 19ms/step - loss: 0.6571 - accuracy: 0.6401 - val_loss: 0.5798 - val_accuracy: 0.7636\n",
      "Epoch 2/50\n",
      "69/69 [==============================] - 1s 18ms/step - loss: 0.3970 - accuracy: 0.8735 - val_loss: 0.3933 - val_accuracy: 0.8400\n",
      "Epoch 3/50\n",
      "69/69 [==============================] - 1s 19ms/step - loss: 0.1682 - accuracy: 0.9527 - val_loss: 0.3728 - val_accuracy: 0.8509\n",
      "Epoch 4/50\n",
      "69/69 [==============================] - 1s 18ms/step - loss: 0.0696 - accuracy: 0.9850 - val_loss: 0.4457 - val_accuracy: 0.8327\n",
      "Epoch 5/50\n",
      "69/69 [==============================] - 1s 18ms/step - loss: 0.0337 - accuracy: 0.9964 - val_loss: 0.4671 - val_accuracy: 0.8400\n",
      "Epoch 6/50\n",
      "69/69 [==============================] - 1s 19ms/step - loss: 0.0181 - accuracy: 0.9982 - val_loss: 0.5028 - val_accuracy: 0.8364\n",
      "Epoch 7/50\n",
      "69/69 [==============================] - 1s 18ms/step - loss: 0.0111 - accuracy: 0.9982 - val_loss: 0.5233 - val_accuracy: 0.8400\n",
      "Epoch 8/50\n",
      "69/69 [==============================] - 1s 18ms/step - loss: 0.0071 - accuracy: 0.9995 - val_loss: 0.5479 - val_accuracy: 0.8364\n",
      "Epoch 9/50\n",
      "69/69 [==============================] - 1s 18ms/step - loss: 0.0052 - accuracy: 0.9991 - val_loss: 0.5692 - val_accuracy: 0.8364\n",
      "Epoch 10/50\n",
      "69/69 [==============================] - 1s 18ms/step - loss: 0.0035 - accuracy: 0.9991 - val_loss: 0.5825 - val_accuracy: 0.8382\n",
      "Epoch 11/50\n",
      "69/69 [==============================] - 1s 19ms/step - loss: 0.0023 - accuracy: 0.9995 - val_loss: 0.6128 - val_accuracy: 0.8309\n",
      "Epoch 12/50\n",
      "69/69 [==============================] - 1s 18ms/step - loss: 0.0014 - accuracy: 1.0000 - val_loss: 0.6345 - val_accuracy: 0.8327\n",
      "Epoch 13/50\n",
      "69/69 [==============================] - 1s 19ms/step - loss: 0.0011 - accuracy: 1.0000 - val_loss: 0.6388 - val_accuracy: 0.8327\n",
      "Epoch 14/50\n",
      "69/69 [==============================] - 1s 19ms/step - loss: 9.3352e-04 - accuracy: 1.0000 - val_loss: 0.6519 - val_accuracy: 0.8345\n",
      "Epoch 15/50\n",
      "69/69 [==============================] - 1s 19ms/step - loss: 7.6280e-04 - accuracy: 1.0000 - val_loss: 0.6716 - val_accuracy: 0.8327\n",
      "Epoch 16/50\n",
      "69/69 [==============================] - 1s 19ms/step - loss: 6.4332e-04 - accuracy: 1.0000 - val_loss: 0.6755 - val_accuracy: 0.8345\n",
      "Epoch 17/50\n",
      "69/69 [==============================] - 1s 19ms/step - loss: 5.5314e-04 - accuracy: 1.0000 - val_loss: 0.6848 - val_accuracy: 0.8345\n",
      "Epoch 18/50\n",
      "69/69 [==============================] - 1s 19ms/step - loss: 4.8789e-04 - accuracy: 1.0000 - val_loss: 0.6928 - val_accuracy: 0.8345\n",
      "Epoch 19/50\n",
      "69/69 [==============================] - 1s 19ms/step - loss: 4.2024e-04 - accuracy: 1.0000 - val_loss: 0.7035 - val_accuracy: 0.8345\n",
      "Epoch 20/50\n",
      "69/69 [==============================] - 1s 19ms/step - loss: 3.6154e-04 - accuracy: 1.0000 - val_loss: 0.7166 - val_accuracy: 0.8382\n",
      "Epoch 21/50\n",
      "69/69 [==============================] - 1s 19ms/step - loss: 3.2306e-04 - accuracy: 1.0000 - val_loss: 0.7216 - val_accuracy: 0.8345\n",
      "Epoch 22/50\n",
      "69/69 [==============================] - 1s 19ms/step - loss: 2.9009e-04 - accuracy: 1.0000 - val_loss: 0.7324 - val_accuracy: 0.8382\n",
      "Epoch 23/50\n",
      "69/69 [==============================] - 1s 19ms/step - loss: 2.5893e-04 - accuracy: 1.0000 - val_loss: 0.7375 - val_accuracy: 0.8382\n",
      "Epoch 24/50\n",
      "69/69 [==============================] - 1s 20ms/step - loss: 2.3512e-04 - accuracy: 1.0000 - val_loss: 0.7446 - val_accuracy: 0.8364\n",
      "Epoch 25/50\n",
      "69/69 [==============================] - 1s 21ms/step - loss: 2.1499e-04 - accuracy: 1.0000 - val_loss: 0.7540 - val_accuracy: 0.8364\n",
      "Epoch 26/50\n",
      "69/69 [==============================] - 1s 21ms/step - loss: 1.9200e-04 - accuracy: 1.0000 - val_loss: 0.7604 - val_accuracy: 0.8364\n",
      "Epoch 27/50\n",
      "69/69 [==============================] - 1s 21ms/step - loss: 1.7442e-04 - accuracy: 1.0000 - val_loss: 0.7656 - val_accuracy: 0.8364\n",
      "Epoch 28/50\n",
      "69/69 [==============================] - 1s 21ms/step - loss: 1.5997e-04 - accuracy: 1.0000 - val_loss: 0.7718 - val_accuracy: 0.8345\n",
      "Epoch 29/50\n",
      "69/69 [==============================] - 1s 21ms/step - loss: 1.4564e-04 - accuracy: 1.0000 - val_loss: 0.7765 - val_accuracy: 0.8364\n",
      "Epoch 30/50\n",
      "69/69 [==============================] - 1s 21ms/step - loss: 1.3518e-04 - accuracy: 1.0000 - val_loss: 0.7819 - val_accuracy: 0.8382\n",
      "Epoch 31/50\n",
      "69/69 [==============================] - 1s 20ms/step - loss: 1.2374e-04 - accuracy: 1.0000 - val_loss: 0.7902 - val_accuracy: 0.8327\n",
      "Epoch 32/50\n",
      "69/69 [==============================] - 1s 20ms/step - loss: 1.1356e-04 - accuracy: 1.0000 - val_loss: 0.7950 - val_accuracy: 0.8327\n",
      "Epoch 33/50\n",
      "69/69 [==============================] - 1s 21ms/step - loss: 1.0483e-04 - accuracy: 1.0000 - val_loss: 0.8002 - val_accuracy: 0.8345\n",
      "Epoch 34/50\n",
      "69/69 [==============================] - 1s 21ms/step - loss: 9.7876e-05 - accuracy: 1.0000 - val_loss: 0.8058 - val_accuracy: 0.8327\n",
      "Epoch 35/50\n",
      "69/69 [==============================] - 1s 21ms/step - loss: 9.1190e-05 - accuracy: 1.0000 - val_loss: 0.8112 - val_accuracy: 0.8345\n",
      "Epoch 36/50\n",
      "69/69 [==============================] - 1s 21ms/step - loss: 8.3720e-05 - accuracy: 1.0000 - val_loss: 0.8146 - val_accuracy: 0.8345\n",
      "Epoch 37/50\n",
      "69/69 [==============================] - 1s 21ms/step - loss: 7.8156e-05 - accuracy: 1.0000 - val_loss: 0.8206 - val_accuracy: 0.8345\n",
      "Epoch 38/50\n",
      "69/69 [==============================] - 1s 20ms/step - loss: 7.3319e-05 - accuracy: 1.0000 - val_loss: 0.8253 - val_accuracy: 0.8345\n",
      "Epoch 39/50\n",
      "69/69 [==============================] - 1s 20ms/step - loss: 6.8591e-05 - accuracy: 1.0000 - val_loss: 0.8308 - val_accuracy: 0.8345\n",
      "Epoch 40/50\n",
      "69/69 [==============================] - 1s 21ms/step - loss: 6.4508e-05 - accuracy: 1.0000 - val_loss: 0.8362 - val_accuracy: 0.8345\n",
      "Epoch 41/50\n",
      "69/69 [==============================] - 1s 20ms/step - loss: 6.0438e-05 - accuracy: 1.0000 - val_loss: 0.8410 - val_accuracy: 0.8345\n",
      "Epoch 42/50\n",
      "69/69 [==============================] - 1s 21ms/step - loss: 5.6124e-05 - accuracy: 1.0000 - val_loss: 0.8444 - val_accuracy: 0.8345\n",
      "Epoch 43/50\n",
      "69/69 [==============================] - 1s 20ms/step - loss: 5.3486e-05 - accuracy: 1.0000 - val_loss: 0.8510 - val_accuracy: 0.8345\n",
      "Epoch 44/50\n",
      "69/69 [==============================] - 1s 21ms/step - loss: 4.9711e-05 - accuracy: 1.0000 - val_loss: 0.8536 - val_accuracy: 0.8345\n",
      "Epoch 45/50\n",
      "69/69 [==============================] - 1s 20ms/step - loss: 4.7101e-05 - accuracy: 1.0000 - val_loss: 0.8580 - val_accuracy: 0.8345\n",
      "Epoch 46/50\n",
      "69/69 [==============================] - 1s 20ms/step - loss: 4.4187e-05 - accuracy: 1.0000 - val_loss: 0.8633 - val_accuracy: 0.8345\n",
      "Epoch 47/50\n",
      "69/69 [==============================] - 1s 20ms/step - loss: 4.1879e-05 - accuracy: 1.0000 - val_loss: 0.8658 - val_accuracy: 0.8345\n",
      "Epoch 48/50\n",
      "69/69 [==============================] - 1s 21ms/step - loss: 3.9380e-05 - accuracy: 1.0000 - val_loss: 0.8701 - val_accuracy: 0.8345\n",
      "Epoch 49/50\n",
      "69/69 [==============================] - 1s 20ms/step - loss: 3.7201e-05 - accuracy: 1.0000 - val_loss: 0.8753 - val_accuracy: 0.8345\n",
      "Epoch 50/50\n",
      "69/69 [==============================] - 1s 21ms/step - loss: 3.5099e-05 - accuracy: 1.0000 - val_loss: 0.8793 - val_accuracy: 0.8345\n",
      "18/18 [==============================] - 0s 6ms/step - loss: 0.8793 - accuracy: 0.8345\n",
      "Test Loss: 0.8793125748634338\n",
      "Test Accuracy: 0.8345454335212708\n",
      "18/18 [==============================] - 0s 5ms/step\n",
      "Prediction Accuracy: 0.8345454545454546\n",
      "18/18 [==============================] - 0s 5ms/step - loss: 0.8793 - accuracy: 0.8345\n",
      "Test Loss: 0.8793125748634338\n",
      "Test Accuracy: 0.8345454335212708\n",
      "18/18 [==============================] - 0s 5ms/step\n"
     ]
    },
    {
     "data": {
      "image/png": "[encoded data removed]",
      "text/plain": [
       "<Figure size 432x288 with 2 Axes>"
      ]
     },
     "metadata": {
      "needs_background": "light"
     },
     "output_type": "display_data"
    },
    {
     "data": {
      "image/png": "[encoded data removed]",
      "text/plain": [
       "<Figure size 432x288 with 1 Axes>"
      ]
     },
     "metadata": {
      "needs_background": "light"
     },
     "output_type": "display_data"
    }
   ],
   "source": [
    "from tensorflow.keras.layers import Embedding, Conv1D, GlobalMaxPooling1D, Dense\n",
    "model = Sequential()\n",
    "model.add(Embedding(len(tokenizer.word_index) + 1, 128, input_length=max_len))\n",
    "model.add(Conv1D(128, 5, activation='relu'))\n",
    "model.add(GlobalMaxPooling1D())\n",
    "model.add(Dense(1, activation='sigmoid'))\n",
    "\n",
    "# Compile the model\n",
    "model.compile(loss='binary_crossentropy', optimizer='adam', metrics=['accuracy'])\n",
    "\n",
    "# Train the model\n",
    "model.fit(x_train_pad, y_train, epochs=50, batch_size=32, validation_data=(x_test_pad, y_test))\n",
    "\n",
    "# Evaluate the model\n",
    "loss, accuracy = model.evaluate(x_test_pad, y_test)\n",
    "print(\"Test Loss:\", loss)\n",
    "print(\"Test Accuracy:\", accuracy)\n",
    "\n",
    "# Generate predictions\n",
    "predictions = model.predict(x_test_pad)\n",
    "binary_predictions = (predictions > 0.5).astype(int)\n",
    "prediction_accuracy = (binary_predictions == y_test.reshape(-1, 1)).mean()\n",
    "print(\"Prediction Accuracy:\", prediction_accuracy)\n",
    "loss, accuracy = model.evaluate(x_test_pad, y_test)\n",
    "print(\"Test Loss:\", loss)\n",
    "print(\"Test Accuracy:\", accuracy)\n",
    "# Generate predictions\n",
    "predictions = model.predict(x_test_pad)\n",
    "binary_predictions = (predictions > 0.5).astype(int)\n",
    "\n",
    "\n",
    "\n"
   ]
  },
  {
   "cell_type": "markdown",
   "metadata": {},
   "source": [
    "# confusion matrix"
   ]
  },
  {
   "cell_type": "code",
   "execution_count": 41,
   "metadata": {},
   "outputs": [
    {
     "data": {
      "image/png": "[encoded data removed]",
      "text/plain": [
       "<Figure size 432x288 with 2 Axes>"
      ]
     },
     "metadata": {
      "needs_background": "light"
     },
     "output_type": "display_data"
    }
   ],
   "source": [
    "# Compute confusion matrix\n",
    "cm = confusion_matrix(y_test, binary_predictions)\n",
    "\n",
    "# Plot confusion matrix\n",
    "plt.figure()\n",
    "sns.heatmap(cm, annot=True, fmt='d', cmap='Blues')\n",
    "plt.title('Confusion Matrix')\n",
    "plt.xlabel('Predicted')\n",
    "plt.ylabel('Actual')\n",
    "plt.show()"
   ]
  },
  {
   "cell_type": "markdown",
   "metadata": {},
   "source": [
    "# roc curve"
   ]
  },
  {
   "cell_type": "code",
   "execution_count": 42,
   "metadata": {},
   "outputs": [
    {
     "data": {
      "image/png": "[encoded data removed]",
      "text/plain": [
       "<Figure size 432x288 with 1 Axes>"
      ]
     },
     "metadata": {
      "needs_background": "light"
     },
     "output_type": "display_data"
    }
   ],
   "source": [
    "fpr, tpr, thresholds = roc_curve(y_test, predictions)\n",
    "auc_score = roc_auc_score(y_test, predictions)\n",
    "\n",
    "# Plot ROC curve\n",
    "plt.figure()\n",
    "plt.plot(fpr, tpr, label='ROC curve (AUC = {:.2f})'.format(auc_score))\n",
    "plt.plot([0, 1], [0, 1], 'k--')\n",
    "plt.xlim([0.0, 1.0])\n",
    "plt.ylim([0.0, 1.05])\n",
    "plt.xlabel('False Positive Rate')\n",
    "plt.ylabel('True Positive Rate')\n",
    "plt.title('Receiver Operating Characteristic')\n",
    "plt.legend(loc='lower right')\n",
    "plt.show()"
   ]
  },
  {
   "cell_type": "markdown",
   "metadata": {},
   "source": [
    "### Contingency table"
   ]
  },
  {
   "cell_type": "code",
   "execution_count": 44,
   "metadata": {
    "execution": {
     "iopub.execute_input": "2023-05-08T11:26:30.910817Z",
     "iopub.status.busy": "2023-05-08T11:26:30.910371Z",
     "iopub.status.idle": "2023-05-08T11:26:30.918416Z",
     "shell.execute_reply": "2023-05-08T11:26:30.917176Z",
     "shell.execute_reply.started": "2023-05-08T11:26:30.910782Z"
    }
   },
   "outputs": [],
   "source": [
    "import pandas as pd\n",
    "\n",
    "results = pd.DataFrame()\n",
    "results['Classifier'] = ['LR', 'NB', 'SVM']\n",
    "results['Accuracy'] = acc\n",
    "results.loc[3] = ['CNN', accuracy]\n",
    "\n",
    "# Add results for LSTM\n",
    "results.loc[4] = ['LSTM',accuracy]"
   ]
  },
  {
   "cell_type": "code",
   "execution_count": 45,
   "metadata": {
    "execution": {
     "iopub.execute_input": "2023-05-08T11:26:31.348633Z",
     "iopub.status.busy": "2023-05-08T11:26:31.348191Z",
     "iopub.status.idle": "2023-05-08T11:26:31.361988Z",
     "shell.execute_reply": "2023-05-08T11:26:31.360477Z",
     "shell.execute_reply.started": "2023-05-08T11:26:31.348602Z"
    }
   },
   "outputs": [
    {
     "data": {
      "text/html": [
       "<div>\n",
       "<style scoped>\n",
       "    .dataframe tbody tr th:only-of-type {\n",
       "        vertical-align: middle;\n",
       "    }\n",
       "\n",
       "    .dataframe tbody tr th {\n",
       "        vertical-align: top;\n",
       "    }\n",
       "\n",
       "    .dataframe thead th {\n",
       "        text-align: right;\n",
       "    }\n",
       "</style>\n",
       "<table border=\"1\" class=\"dataframe\">\n",
       "  <thead>\n",
       "    <tr style=\"text-align: right;\">\n",
       "      <th></th>\n",
       "      <th>Classifier</th>\n",
       "      <th>Accuracy</th>\n",
       "    </tr>\n",
       "  </thead>\n",
       "  <tbody>\n",
       "    <tr>\n",
       "      <th>0</th>\n",
       "      <td>LR</td>\n",
       "      <td>0.794819</td>\n",
       "    </tr>\n",
       "    <tr>\n",
       "      <th>1</th>\n",
       "      <td>NB</td>\n",
       "      <td>0.783437</td>\n",
       "    </tr>\n",
       "    <tr>\n",
       "      <th>2</th>\n",
       "      <td>SVM</td>\n",
       "      <td>0.787993</td>\n",
       "    </tr>\n",
       "    <tr>\n",
       "      <th>3</th>\n",
       "      <td>CNN</td>\n",
       "      <td>0.834545</td>\n",
       "    </tr>\n",
       "    <tr>\n",
       "      <th>4</th>\n",
       "      <td>LSTM</td>\n",
       "      <td>0.834545</td>\n",
       "    </tr>\n",
       "  </tbody>\n",
       "</table>\n",
       "</div>"
      ],
      "text/plain": [
       "  Classifier  Accuracy\n",
       "0         LR  0.794819\n",
       "1         NB  0.783437\n",
       "2        SVM  0.787993\n",
       "3        CNN  0.834545\n",
       "4       LSTM  0.834545"
      ]
     },
     "execution_count": 45,
     "metadata": {},
     "output_type": "execute_result"
    }
   ],
   "source": [
    "results"
   ]
  },
  {
   "cell_type": "code",
   "execution_count": 46,
   "metadata": {},
   "outputs": [
    {
     "data": {
      "image/png": "[encoded data removed]",
      "text/plain": [
       "<Figure size 576x432 with 1 Axes>"
      ]
     },
     "metadata": {
      "needs_background": "light"
     },
     "output_type": "display_data"
    }
   ],
   "source": [
    "import matplotlib.pyplot as plt\n",
    "\n",
    "classifiers = results['Classifier']\n",
    "accuracy_scores = results['Accuracy']\n",
    "\n",
    "plt.figure(figsize=(8, 6))\n",
    "plt.bar(classifiers, accuracy_scores)\n",
    "plt.title('Accuracy Comparison of Classifiers')\n",
    "plt.xlabel('Classifier')\n",
    "plt.ylabel('Accuracy')\n",
    "plt.ylim([0, 1])\n",
    "plt.show()\n"
   ]
  },
  {
   "cell_type": "code",
   "execution_count": null,
   "metadata": {},
   "outputs": [],
   "source": []
  }
 ],
 "metadata": {
  "kernelspec": {
   "display_name": "Python 3 (ipykernel)",
   "language": "python",
   "name": "python3"
  },
  "language_info": {
   "codemirror_mode": {
    "name": "ipython",
    "version": 3
   },
   "file_extension": ".py",
   "mimetype": "text/x-python",
   "name": "python",
   "nbconvert_exporter": "python",
   "pygments_lexer": "ipython3",
   "version": "3.9.12"
  }
 },
 "nbformat": 4,
 "nbformat_minor": 4
}
